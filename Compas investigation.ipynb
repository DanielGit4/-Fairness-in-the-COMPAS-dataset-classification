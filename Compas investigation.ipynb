{
 "cells": [
  {
   "cell_type": "markdown",
   "metadata": {},
   "source": [
    "### 0.0 Notes"
   ]
  },
  {
   "cell_type": "markdown",
   "metadata": {},
   "source": [
    "0. they have analysis for teh results\n",
    "1. northpointe algorithm is biased towards black people\n",
    "2. the used a set of 137 questions and \"race\" is not on of them\n",
    "3. It produces a \"risk score\",, which is the likelihod of recommiting a future crime.\n",
    "4. The score provies an unreliable forvcasting, only 20% of the people predictied to be recomminting actually did it\n",
    "5. Tests isolating the effects of race, gender and age from criminal history and recedivism were done, but the algorithm still shows that black people are 77% more likely to be pegged as higherrisk of commiting a future crime and 45% more to ommit a future crime of any kind."
   ]
  },
  {
   "cell_type": "markdown",
   "metadata": {},
   "source": [
    "I have 2 main questions right now \n",
    "  1. How could an algorithm be unfair\n",
    "  2. even after \"5.\" it still shows the output is biased towards black \n",
    "     people, could it be that the questions are designed s.t the are r      racially biased and with the  goal to indict more black people "
   ]
  },
  {
   "cell_type": "markdown",
   "metadata": {},
   "source": [
    "### TODO:\n",
    "0. Some descriptive stats.\n",
    "1. histogram of black people that are predicted to recommit\n",
    "2. histogram of white people that are predicted to reccomit\n",
    "3. percentage of b;acl people that really recommited\n",
    "4. percentage of white people that really recommited\n"
   ]
  },
  {
   "cell_type": "markdown",
   "metadata": {},
   "source": [
    "### Imports"
   ]
  },
  {
   "cell_type": "code",
   "execution_count": 28,
   "metadata": {},
   "outputs": [],
   "source": [
    "import urllib\n",
    "import urllib.request\n",
    "import os,sys\n",
    "import numpy as np\n",
    "import pandas as pd\n",
    "from functools import reduce\n",
    "pd.set_option('display.max_columns',None)\n",
    "from pprint import pprint\n",
    "import matplotlib.pyplot as plt\n",
    "%matplotlib inline\n",
    "\n",
    "import sklearn.metrics as performance\n",
    "\n",
    "# from sklearn import feature_extraction\n",
    "# from sklearn import preprocessing\n",
    "from random import seed, shuffle\n",
    "#from __future__ import division\n",
    "#from collections import defaultdict\n",
    "#import utils as ut\n"
   ]
  },
  {
   "cell_type": "code",
   "execution_count": 2,
   "metadata": {},
   "outputs": [
    {
     "data": {
      "text/plain": [
       "<matplotlib.figure.Figure at 0x7fe989c86cc0>"
      ]
     },
     "metadata": {},
     "output_type": "display_data"
    }
   ],
   "source": [
    "\n",
    "SMALL_SIZE = 8\n",
    "MEDIUM_SIZE = 10\n",
    "BIGGER_SIZE = 12\n",
    "fig=plt.figure(figsize=(10,6))\n",
    "plt.rc('font', size=SMALL_SIZE)          # controls default text sizes\n",
    "plt.rc('axes', titlesize=MEDIUM_SIZE)     # fontsize of the axes title\n",
    "plt.rc('axes', labelsize=14)    # fontsize of the x and y labels\n",
    "plt.rc('xtick', labelsize=SMALL_SIZE)    # fontsize of the tick labels\n",
    "plt.rc('ytick', labelsize=SMALL_SIZE)    # fontsize of the tick labels\n",
    "plt.rc('legend', fontsize=SMALL_SIZE)    # legend fontsize\n",
    "plt.rc('figure', titlesize=BIGGER_SIZE)  # fontsize of the figure title\n"
   ]
  },
  {
   "cell_type": "markdown",
   "metadata": {},
   "source": [
    "### Downlaod data file"
   ]
  },
  {
   "cell_type": "code",
   "execution_count": 3,
   "metadata": {},
   "outputs": [
    {
     "name": "stdout",
     "output_type": "stream",
     "text": [
      "Looking for file '%s' in the current directory... compas-scores-two-years.csv\n",
      "File found in current directory..\n"
     ]
    }
   ],
   "source": [
    "\n",
    "SEED = 1234\n",
    "seed(SEED)\n",
    "np.random.seed(SEED)\n",
    "\n",
    "def check_data_file(fname):\n",
    "    files = os.listdir(\".\") # get the current directory listing\n",
    "    print(\"Looking for file '%s' in the current directory...\",fname)\n",
    "\n",
    "    if fname not in files:\n",
    "        print(\"'%s' not found! Downloading from GitHub...\",fname)\n",
    "        addr = \"https://raw.githubusercontent.com/propublica/compas-analysis/master/compas-scores-two-years.csv\"\n",
    "        response = urllib.request.urlopen(addr)\n",
    "        data = response.read()\n",
    "        fileOut = open(fname, \"wb\")\n",
    "        fileOut.write(data)\n",
    "        fileOut.close()\n",
    "        print(\"'%s' download and saved locally..\",fname)\n",
    "    else:\n",
    "        print(\"File found in current directory..\")\n",
    "    \n",
    "COMPAS_INPUT_FILE = \"compas-scores-two-years.csv\"\n",
    "check_data_file(COMPAS_INPUT_FILE)  "
   ]
  },
  {
   "cell_type": "markdown",
   "metadata": {},
   "source": [
    "### load and clean data"
   ]
  },
  {
   "cell_type": "code",
   "execution_count": 4,
   "metadata": {},
   "outputs": [
    {
     "name": "stdout",
     "output_type": "stream",
     "text": [
      "(7214, 53)\n"
     ]
    }
   ],
   "source": [
    "dataset = pd.read_csv(COMPAS_INPUT_FILE)\n",
    "\n",
    "print(dataset.shape)\n",
    "\n",
    "dataset = dataset.dropna(subset=[\"days_b_screening_arrest\"]) # dropping missing vals\n",
    "\n",
    "dataset = dataset[ (dataset.days_b_screening_arrest <= 30) &\n",
    "(dataset.days_b_screening_arrest >= -30) &\n",
    "(dataset.is_recid != -1) & (dataset.c_charge_degree != 'O') & (dataset.score_text != 'N/A') ]\n",
    "\n",
    "dataset.reset_index(inplace=True, drop=True) # renumber the rows from 0 again"
   ]
  },
  {
   "cell_type": "code",
   "execution_count": 5,
   "metadata": {},
   "outputs": [
    {
     "data": {
      "text/html": [
       "<div>\n",
       "<style scoped>\n",
       "    .dataframe tbody tr th:only-of-type {\n",
       "        vertical-align: middle;\n",
       "    }\n",
       "\n",
       "    .dataframe tbody tr th {\n",
       "        vertical-align: top;\n",
       "    }\n",
       "\n",
       "    .dataframe thead th {\n",
       "        text-align: right;\n",
       "    }\n",
       "</style>\n",
       "<table border=\"1\" class=\"dataframe\">\n",
       "  <thead>\n",
       "    <tr style=\"text-align: right;\">\n",
       "      <th></th>\n",
       "      <th>id</th>\n",
       "      <th>name</th>\n",
       "      <th>first</th>\n",
       "      <th>last</th>\n",
       "      <th>compas_screening_date</th>\n",
       "      <th>sex</th>\n",
       "      <th>dob</th>\n",
       "      <th>age</th>\n",
       "      <th>age_cat</th>\n",
       "      <th>race</th>\n",
       "      <th>juv_fel_count</th>\n",
       "      <th>decile_score</th>\n",
       "      <th>juv_misd_count</th>\n",
       "      <th>juv_other_count</th>\n",
       "      <th>priors_count</th>\n",
       "      <th>days_b_screening_arrest</th>\n",
       "      <th>c_jail_in</th>\n",
       "      <th>c_jail_out</th>\n",
       "      <th>c_case_number</th>\n",
       "      <th>c_offense_date</th>\n",
       "      <th>c_arrest_date</th>\n",
       "      <th>c_days_from_compas</th>\n",
       "      <th>c_charge_degree</th>\n",
       "      <th>c_charge_desc</th>\n",
       "      <th>is_recid</th>\n",
       "      <th>r_case_number</th>\n",
       "      <th>r_charge_degree</th>\n",
       "      <th>r_days_from_arrest</th>\n",
       "      <th>r_offense_date</th>\n",
       "      <th>r_charge_desc</th>\n",
       "      <th>r_jail_in</th>\n",
       "      <th>r_jail_out</th>\n",
       "      <th>violent_recid</th>\n",
       "      <th>is_violent_recid</th>\n",
       "      <th>vr_case_number</th>\n",
       "      <th>vr_charge_degree</th>\n",
       "      <th>vr_offense_date</th>\n",
       "      <th>vr_charge_desc</th>\n",
       "      <th>type_of_assessment</th>\n",
       "      <th>decile_score.1</th>\n",
       "      <th>score_text</th>\n",
       "      <th>screening_date</th>\n",
       "      <th>v_type_of_assessment</th>\n",
       "      <th>v_decile_score</th>\n",
       "      <th>v_score_text</th>\n",
       "      <th>v_screening_date</th>\n",
       "      <th>in_custody</th>\n",
       "      <th>out_custody</th>\n",
       "      <th>priors_count.1</th>\n",
       "      <th>start</th>\n",
       "      <th>end</th>\n",
       "      <th>event</th>\n",
       "      <th>two_year_recid</th>\n",
       "    </tr>\n",
       "  </thead>\n",
       "  <tbody>\n",
       "    <tr>\n",
       "      <th>0</th>\n",
       "      <td>1</td>\n",
       "      <td>miguel hernandez</td>\n",
       "      <td>miguel</td>\n",
       "      <td>hernandez</td>\n",
       "      <td>2013-08-14</td>\n",
       "      <td>Male</td>\n",
       "      <td>1947-04-18</td>\n",
       "      <td>69</td>\n",
       "      <td>Greater than 45</td>\n",
       "      <td>Other</td>\n",
       "      <td>0</td>\n",
       "      <td>1</td>\n",
       "      <td>0</td>\n",
       "      <td>0</td>\n",
       "      <td>0</td>\n",
       "      <td>-1.0</td>\n",
       "      <td>2013-08-13 06:03:42</td>\n",
       "      <td>2013-08-14 05:41:20</td>\n",
       "      <td>13011352CF10A</td>\n",
       "      <td>2013-08-13</td>\n",
       "      <td>NaN</td>\n",
       "      <td>1.0</td>\n",
       "      <td>F</td>\n",
       "      <td>Aggravated Assault w/Firearm</td>\n",
       "      <td>0</td>\n",
       "      <td>NaN</td>\n",
       "      <td>NaN</td>\n",
       "      <td>NaN</td>\n",
       "      <td>NaN</td>\n",
       "      <td>NaN</td>\n",
       "      <td>NaN</td>\n",
       "      <td>NaN</td>\n",
       "      <td>NaN</td>\n",
       "      <td>0</td>\n",
       "      <td>NaN</td>\n",
       "      <td>NaN</td>\n",
       "      <td>NaN</td>\n",
       "      <td>NaN</td>\n",
       "      <td>Risk of Recidivism</td>\n",
       "      <td>1</td>\n",
       "      <td>Low</td>\n",
       "      <td>2013-08-14</td>\n",
       "      <td>Risk of Violence</td>\n",
       "      <td>1</td>\n",
       "      <td>Low</td>\n",
       "      <td>2013-08-14</td>\n",
       "      <td>2014-07-07</td>\n",
       "      <td>2014-07-14</td>\n",
       "      <td>0</td>\n",
       "      <td>0</td>\n",
       "      <td>327</td>\n",
       "      <td>0</td>\n",
       "      <td>0</td>\n",
       "    </tr>\n",
       "    <tr>\n",
       "      <th>1</th>\n",
       "      <td>3</td>\n",
       "      <td>kevon dixon</td>\n",
       "      <td>kevon</td>\n",
       "      <td>dixon</td>\n",
       "      <td>2013-01-27</td>\n",
       "      <td>Male</td>\n",
       "      <td>1982-01-22</td>\n",
       "      <td>34</td>\n",
       "      <td>25 - 45</td>\n",
       "      <td>African-American</td>\n",
       "      <td>0</td>\n",
       "      <td>3</td>\n",
       "      <td>0</td>\n",
       "      <td>0</td>\n",
       "      <td>0</td>\n",
       "      <td>-1.0</td>\n",
       "      <td>2013-01-26 03:45:27</td>\n",
       "      <td>2013-02-05 05:36:53</td>\n",
       "      <td>13001275CF10A</td>\n",
       "      <td>2013-01-26</td>\n",
       "      <td>NaN</td>\n",
       "      <td>1.0</td>\n",
       "      <td>F</td>\n",
       "      <td>Felony Battery w/Prior Convict</td>\n",
       "      <td>1</td>\n",
       "      <td>13009779CF10A</td>\n",
       "      <td>(F3)</td>\n",
       "      <td>NaN</td>\n",
       "      <td>2013-07-05</td>\n",
       "      <td>Felony Battery (Dom Strang)</td>\n",
       "      <td>NaN</td>\n",
       "      <td>NaN</td>\n",
       "      <td>NaN</td>\n",
       "      <td>1</td>\n",
       "      <td>13009779CF10A</td>\n",
       "      <td>(F3)</td>\n",
       "      <td>2013-07-05</td>\n",
       "      <td>Felony Battery (Dom Strang)</td>\n",
       "      <td>Risk of Recidivism</td>\n",
       "      <td>3</td>\n",
       "      <td>Low</td>\n",
       "      <td>2013-01-27</td>\n",
       "      <td>Risk of Violence</td>\n",
       "      <td>1</td>\n",
       "      <td>Low</td>\n",
       "      <td>2013-01-27</td>\n",
       "      <td>2013-01-26</td>\n",
       "      <td>2013-02-05</td>\n",
       "      <td>0</td>\n",
       "      <td>9</td>\n",
       "      <td>159</td>\n",
       "      <td>1</td>\n",
       "      <td>1</td>\n",
       "    </tr>\n",
       "    <tr>\n",
       "      <th>2</th>\n",
       "      <td>4</td>\n",
       "      <td>ed philo</td>\n",
       "      <td>ed</td>\n",
       "      <td>philo</td>\n",
       "      <td>2013-04-14</td>\n",
       "      <td>Male</td>\n",
       "      <td>1991-05-14</td>\n",
       "      <td>24</td>\n",
       "      <td>Less than 25</td>\n",
       "      <td>African-American</td>\n",
       "      <td>0</td>\n",
       "      <td>4</td>\n",
       "      <td>0</td>\n",
       "      <td>1</td>\n",
       "      <td>4</td>\n",
       "      <td>-1.0</td>\n",
       "      <td>2013-04-13 04:58:34</td>\n",
       "      <td>2013-04-14 07:02:04</td>\n",
       "      <td>13005330CF10A</td>\n",
       "      <td>2013-04-13</td>\n",
       "      <td>NaN</td>\n",
       "      <td>1.0</td>\n",
       "      <td>F</td>\n",
       "      <td>Possession of Cocaine</td>\n",
       "      <td>1</td>\n",
       "      <td>13011511MM10A</td>\n",
       "      <td>(M1)</td>\n",
       "      <td>0.0</td>\n",
       "      <td>2013-06-16</td>\n",
       "      <td>Driving Under The Influence</td>\n",
       "      <td>2013-06-16</td>\n",
       "      <td>2013-06-16</td>\n",
       "      <td>NaN</td>\n",
       "      <td>0</td>\n",
       "      <td>NaN</td>\n",
       "      <td>NaN</td>\n",
       "      <td>NaN</td>\n",
       "      <td>NaN</td>\n",
       "      <td>Risk of Recidivism</td>\n",
       "      <td>4</td>\n",
       "      <td>Low</td>\n",
       "      <td>2013-04-14</td>\n",
       "      <td>Risk of Violence</td>\n",
       "      <td>3</td>\n",
       "      <td>Low</td>\n",
       "      <td>2013-04-14</td>\n",
       "      <td>2013-06-16</td>\n",
       "      <td>2013-06-16</td>\n",
       "      <td>4</td>\n",
       "      <td>0</td>\n",
       "      <td>63</td>\n",
       "      <td>0</td>\n",
       "      <td>1</td>\n",
       "    </tr>\n",
       "    <tr>\n",
       "      <th>3</th>\n",
       "      <td>7</td>\n",
       "      <td>marsha miles</td>\n",
       "      <td>marsha</td>\n",
       "      <td>miles</td>\n",
       "      <td>2013-11-30</td>\n",
       "      <td>Male</td>\n",
       "      <td>1971-08-22</td>\n",
       "      <td>44</td>\n",
       "      <td>25 - 45</td>\n",
       "      <td>Other</td>\n",
       "      <td>0</td>\n",
       "      <td>1</td>\n",
       "      <td>0</td>\n",
       "      <td>0</td>\n",
       "      <td>0</td>\n",
       "      <td>0.0</td>\n",
       "      <td>2013-11-30 04:50:18</td>\n",
       "      <td>2013-12-01 12:28:56</td>\n",
       "      <td>13022355MM10A</td>\n",
       "      <td>2013-11-30</td>\n",
       "      <td>NaN</td>\n",
       "      <td>0.0</td>\n",
       "      <td>M</td>\n",
       "      <td>Battery</td>\n",
       "      <td>0</td>\n",
       "      <td>NaN</td>\n",
       "      <td>NaN</td>\n",
       "      <td>NaN</td>\n",
       "      <td>NaN</td>\n",
       "      <td>NaN</td>\n",
       "      <td>NaN</td>\n",
       "      <td>NaN</td>\n",
       "      <td>NaN</td>\n",
       "      <td>0</td>\n",
       "      <td>NaN</td>\n",
       "      <td>NaN</td>\n",
       "      <td>NaN</td>\n",
       "      <td>NaN</td>\n",
       "      <td>Risk of Recidivism</td>\n",
       "      <td>1</td>\n",
       "      <td>Low</td>\n",
       "      <td>2013-11-30</td>\n",
       "      <td>Risk of Violence</td>\n",
       "      <td>1</td>\n",
       "      <td>Low</td>\n",
       "      <td>2013-11-30</td>\n",
       "      <td>2013-11-30</td>\n",
       "      <td>2013-12-01</td>\n",
       "      <td>0</td>\n",
       "      <td>1</td>\n",
       "      <td>853</td>\n",
       "      <td>0</td>\n",
       "      <td>0</td>\n",
       "    </tr>\n",
       "    <tr>\n",
       "      <th>4</th>\n",
       "      <td>8</td>\n",
       "      <td>edward riddle</td>\n",
       "      <td>edward</td>\n",
       "      <td>riddle</td>\n",
       "      <td>2014-02-19</td>\n",
       "      <td>Male</td>\n",
       "      <td>1974-07-23</td>\n",
       "      <td>41</td>\n",
       "      <td>25 - 45</td>\n",
       "      <td>Caucasian</td>\n",
       "      <td>0</td>\n",
       "      <td>6</td>\n",
       "      <td>0</td>\n",
       "      <td>0</td>\n",
       "      <td>14</td>\n",
       "      <td>-1.0</td>\n",
       "      <td>2014-02-18 05:08:24</td>\n",
       "      <td>2014-02-24 12:18:30</td>\n",
       "      <td>14002304CF10A</td>\n",
       "      <td>2014-02-18</td>\n",
       "      <td>NaN</td>\n",
       "      <td>1.0</td>\n",
       "      <td>F</td>\n",
       "      <td>Possession Burglary Tools</td>\n",
       "      <td>1</td>\n",
       "      <td>14004485CF10A</td>\n",
       "      <td>(F2)</td>\n",
       "      <td>0.0</td>\n",
       "      <td>2014-03-31</td>\n",
       "      <td>Poss of Firearm by Convic Felo</td>\n",
       "      <td>2014-03-31</td>\n",
       "      <td>2014-04-18</td>\n",
       "      <td>NaN</td>\n",
       "      <td>0</td>\n",
       "      <td>NaN</td>\n",
       "      <td>NaN</td>\n",
       "      <td>NaN</td>\n",
       "      <td>NaN</td>\n",
       "      <td>Risk of Recidivism</td>\n",
       "      <td>6</td>\n",
       "      <td>Medium</td>\n",
       "      <td>2014-02-19</td>\n",
       "      <td>Risk of Violence</td>\n",
       "      <td>2</td>\n",
       "      <td>Low</td>\n",
       "      <td>2014-02-19</td>\n",
       "      <td>2014-03-31</td>\n",
       "      <td>2014-04-18</td>\n",
       "      <td>14</td>\n",
       "      <td>5</td>\n",
       "      <td>40</td>\n",
       "      <td>1</td>\n",
       "      <td>1</td>\n",
       "    </tr>\n",
       "    <tr>\n",
       "      <th>5</th>\n",
       "      <td>9</td>\n",
       "      <td>steven stewart</td>\n",
       "      <td>steven</td>\n",
       "      <td>stewart</td>\n",
       "      <td>2013-08-30</td>\n",
       "      <td>Male</td>\n",
       "      <td>1973-02-25</td>\n",
       "      <td>43</td>\n",
       "      <td>25 - 45</td>\n",
       "      <td>Other</td>\n",
       "      <td>0</td>\n",
       "      <td>4</td>\n",
       "      <td>0</td>\n",
       "      <td>0</td>\n",
       "      <td>3</td>\n",
       "      <td>-1.0</td>\n",
       "      <td>2013-08-29 08:55:23</td>\n",
       "      <td>2013-08-30 08:42:13</td>\n",
       "      <td>13012216CF10A</td>\n",
       "      <td>NaN</td>\n",
       "      <td>2013-08-29</td>\n",
       "      <td>1.0</td>\n",
       "      <td>F</td>\n",
       "      <td>arrest case no charge</td>\n",
       "      <td>0</td>\n",
       "      <td>NaN</td>\n",
       "      <td>NaN</td>\n",
       "      <td>NaN</td>\n",
       "      <td>NaN</td>\n",
       "      <td>NaN</td>\n",
       "      <td>NaN</td>\n",
       "      <td>NaN</td>\n",
       "      <td>NaN</td>\n",
       "      <td>0</td>\n",
       "      <td>NaN</td>\n",
       "      <td>NaN</td>\n",
       "      <td>NaN</td>\n",
       "      <td>NaN</td>\n",
       "      <td>Risk of Recidivism</td>\n",
       "      <td>4</td>\n",
       "      <td>Low</td>\n",
       "      <td>2013-08-30</td>\n",
       "      <td>Risk of Violence</td>\n",
       "      <td>3</td>\n",
       "      <td>Low</td>\n",
       "      <td>2013-08-30</td>\n",
       "      <td>2014-05-22</td>\n",
       "      <td>2014-06-03</td>\n",
       "      <td>3</td>\n",
       "      <td>0</td>\n",
       "      <td>265</td>\n",
       "      <td>0</td>\n",
       "      <td>0</td>\n",
       "    </tr>\n",
       "    <tr>\n",
       "      <th>6</th>\n",
       "      <td>10</td>\n",
       "      <td>elizabeth thieme</td>\n",
       "      <td>elizabeth</td>\n",
       "      <td>thieme</td>\n",
       "      <td>2014-03-16</td>\n",
       "      <td>Female</td>\n",
       "      <td>1976-06-03</td>\n",
       "      <td>39</td>\n",
       "      <td>25 - 45</td>\n",
       "      <td>Caucasian</td>\n",
       "      <td>0</td>\n",
       "      <td>1</td>\n",
       "      <td>0</td>\n",
       "      <td>0</td>\n",
       "      <td>0</td>\n",
       "      <td>-1.0</td>\n",
       "      <td>2014-03-15 05:35:34</td>\n",
       "      <td>2014-03-18 04:28:46</td>\n",
       "      <td>14004524MM10A</td>\n",
       "      <td>2014-03-15</td>\n",
       "      <td>NaN</td>\n",
       "      <td>1.0</td>\n",
       "      <td>M</td>\n",
       "      <td>Battery</td>\n",
       "      <td>0</td>\n",
       "      <td>NaN</td>\n",
       "      <td>NaN</td>\n",
       "      <td>NaN</td>\n",
       "      <td>NaN</td>\n",
       "      <td>NaN</td>\n",
       "      <td>NaN</td>\n",
       "      <td>NaN</td>\n",
       "      <td>NaN</td>\n",
       "      <td>0</td>\n",
       "      <td>NaN</td>\n",
       "      <td>NaN</td>\n",
       "      <td>NaN</td>\n",
       "      <td>NaN</td>\n",
       "      <td>Risk of Recidivism</td>\n",
       "      <td>1</td>\n",
       "      <td>Low</td>\n",
       "      <td>2014-03-16</td>\n",
       "      <td>Risk of Violence</td>\n",
       "      <td>1</td>\n",
       "      <td>Low</td>\n",
       "      <td>2014-03-16</td>\n",
       "      <td>2014-03-15</td>\n",
       "      <td>2014-03-18</td>\n",
       "      <td>0</td>\n",
       "      <td>2</td>\n",
       "      <td>747</td>\n",
       "      <td>0</td>\n",
       "      <td>0</td>\n",
       "    </tr>\n",
       "    <tr>\n",
       "      <th>7</th>\n",
       "      <td>14</td>\n",
       "      <td>benjamin franc</td>\n",
       "      <td>benjamin</td>\n",
       "      <td>franc</td>\n",
       "      <td>2013-11-26</td>\n",
       "      <td>Male</td>\n",
       "      <td>1988-06-01</td>\n",
       "      <td>27</td>\n",
       "      <td>25 - 45</td>\n",
       "      <td>Caucasian</td>\n",
       "      <td>0</td>\n",
       "      <td>4</td>\n",
       "      <td>0</td>\n",
       "      <td>0</td>\n",
       "      <td>0</td>\n",
       "      <td>-1.0</td>\n",
       "      <td>2013-11-25 06:31:06</td>\n",
       "      <td>2013-11-26 08:26:57</td>\n",
       "      <td>13016402CF10A</td>\n",
       "      <td>2013-11-25</td>\n",
       "      <td>NaN</td>\n",
       "      <td>1.0</td>\n",
       "      <td>F</td>\n",
       "      <td>Poss 3,4 MDMA (Ecstasy)</td>\n",
       "      <td>0</td>\n",
       "      <td>NaN</td>\n",
       "      <td>NaN</td>\n",
       "      <td>NaN</td>\n",
       "      <td>NaN</td>\n",
       "      <td>NaN</td>\n",
       "      <td>NaN</td>\n",
       "      <td>NaN</td>\n",
       "      <td>NaN</td>\n",
       "      <td>0</td>\n",
       "      <td>NaN</td>\n",
       "      <td>NaN</td>\n",
       "      <td>NaN</td>\n",
       "      <td>NaN</td>\n",
       "      <td>Risk of Recidivism</td>\n",
       "      <td>4</td>\n",
       "      <td>Low</td>\n",
       "      <td>2013-11-26</td>\n",
       "      <td>Risk of Violence</td>\n",
       "      <td>4</td>\n",
       "      <td>Low</td>\n",
       "      <td>2013-11-26</td>\n",
       "      <td>2013-11-25</td>\n",
       "      <td>2013-11-26</td>\n",
       "      <td>0</td>\n",
       "      <td>0</td>\n",
       "      <td>857</td>\n",
       "      <td>0</td>\n",
       "      <td>0</td>\n",
       "    </tr>\n",
       "    <tr>\n",
       "      <th>8</th>\n",
       "      <td>15</td>\n",
       "      <td>ellyaher lanza</td>\n",
       "      <td>ellyaher</td>\n",
       "      <td>lanza</td>\n",
       "      <td>2013-10-03</td>\n",
       "      <td>Male</td>\n",
       "      <td>1992-08-18</td>\n",
       "      <td>23</td>\n",
       "      <td>Less than 25</td>\n",
       "      <td>African-American</td>\n",
       "      <td>0</td>\n",
       "      <td>6</td>\n",
       "      <td>0</td>\n",
       "      <td>0</td>\n",
       "      <td>3</td>\n",
       "      <td>0.0</td>\n",
       "      <td>2013-10-03 04:07:35</td>\n",
       "      <td>2013-10-07 08:17:30</td>\n",
       "      <td>13018837MM10A</td>\n",
       "      <td>2013-10-03</td>\n",
       "      <td>NaN</td>\n",
       "      <td>0.0</td>\n",
       "      <td>M</td>\n",
       "      <td>Battery</td>\n",
       "      <td>1</td>\n",
       "      <td>14010414TC40A</td>\n",
       "      <td>(M2)</td>\n",
       "      <td>NaN</td>\n",
       "      <td>2014-02-08</td>\n",
       "      <td>Driving License Suspended</td>\n",
       "      <td>NaN</td>\n",
       "      <td>NaN</td>\n",
       "      <td>NaN</td>\n",
       "      <td>0</td>\n",
       "      <td>NaN</td>\n",
       "      <td>NaN</td>\n",
       "      <td>NaN</td>\n",
       "      <td>NaN</td>\n",
       "      <td>Risk of Recidivism</td>\n",
       "      <td>6</td>\n",
       "      <td>Medium</td>\n",
       "      <td>2013-10-03</td>\n",
       "      <td>Risk of Violence</td>\n",
       "      <td>4</td>\n",
       "      <td>Low</td>\n",
       "      <td>2013-10-03</td>\n",
       "      <td>2013-10-03</td>\n",
       "      <td>2013-10-07</td>\n",
       "      <td>3</td>\n",
       "      <td>4</td>\n",
       "      <td>128</td>\n",
       "      <td>1</td>\n",
       "      <td>1</td>\n",
       "    </tr>\n",
       "    <tr>\n",
       "      <th>9</th>\n",
       "      <td>16</td>\n",
       "      <td>kortney coleman</td>\n",
       "      <td>kortney</td>\n",
       "      <td>coleman</td>\n",
       "      <td>2013-01-01</td>\n",
       "      <td>Female</td>\n",
       "      <td>1978-08-22</td>\n",
       "      <td>37</td>\n",
       "      <td>25 - 45</td>\n",
       "      <td>Caucasian</td>\n",
       "      <td>0</td>\n",
       "      <td>1</td>\n",
       "      <td>0</td>\n",
       "      <td>0</td>\n",
       "      <td>0</td>\n",
       "      <td>0.0</td>\n",
       "      <td>2013-01-01 03:28:03</td>\n",
       "      <td>2013-01-02 01:12:19</td>\n",
       "      <td>13000053MM10A</td>\n",
       "      <td>2013-01-01</td>\n",
       "      <td>NaN</td>\n",
       "      <td>0.0</td>\n",
       "      <td>M</td>\n",
       "      <td>Battery</td>\n",
       "      <td>0</td>\n",
       "      <td>NaN</td>\n",
       "      <td>NaN</td>\n",
       "      <td>NaN</td>\n",
       "      <td>NaN</td>\n",
       "      <td>NaN</td>\n",
       "      <td>NaN</td>\n",
       "      <td>NaN</td>\n",
       "      <td>NaN</td>\n",
       "      <td>0</td>\n",
       "      <td>NaN</td>\n",
       "      <td>NaN</td>\n",
       "      <td>NaN</td>\n",
       "      <td>NaN</td>\n",
       "      <td>Risk of Recidivism</td>\n",
       "      <td>1</td>\n",
       "      <td>Low</td>\n",
       "      <td>2013-01-01</td>\n",
       "      <td>Risk of Violence</td>\n",
       "      <td>1</td>\n",
       "      <td>Low</td>\n",
       "      <td>2013-01-01</td>\n",
       "      <td>2013-01-01</td>\n",
       "      <td>2013-01-02</td>\n",
       "      <td>0</td>\n",
       "      <td>1</td>\n",
       "      <td>1186</td>\n",
       "      <td>0</td>\n",
       "      <td>0</td>\n",
       "    </tr>\n",
       "  </tbody>\n",
       "</table>\n",
       "</div>"
      ],
      "text/plain": [
       "   id              name      first       last compas_screening_date     sex  \\\n",
       "0   1  miguel hernandez     miguel  hernandez            2013-08-14    Male   \n",
       "1   3       kevon dixon      kevon      dixon            2013-01-27    Male   \n",
       "2   4          ed philo         ed      philo            2013-04-14    Male   \n",
       "3   7      marsha miles     marsha      miles            2013-11-30    Male   \n",
       "4   8     edward riddle     edward     riddle            2014-02-19    Male   \n",
       "5   9    steven stewart     steven    stewart            2013-08-30    Male   \n",
       "6  10  elizabeth thieme  elizabeth     thieme            2014-03-16  Female   \n",
       "7  14    benjamin franc   benjamin      franc            2013-11-26    Male   \n",
       "8  15    ellyaher lanza   ellyaher      lanza            2013-10-03    Male   \n",
       "9  16   kortney coleman    kortney    coleman            2013-01-01  Female   \n",
       "\n",
       "          dob  age          age_cat              race  juv_fel_count  \\\n",
       "0  1947-04-18   69  Greater than 45             Other              0   \n",
       "1  1982-01-22   34          25 - 45  African-American              0   \n",
       "2  1991-05-14   24     Less than 25  African-American              0   \n",
       "3  1971-08-22   44          25 - 45             Other              0   \n",
       "4  1974-07-23   41          25 - 45         Caucasian              0   \n",
       "5  1973-02-25   43          25 - 45             Other              0   \n",
       "6  1976-06-03   39          25 - 45         Caucasian              0   \n",
       "7  1988-06-01   27          25 - 45         Caucasian              0   \n",
       "8  1992-08-18   23     Less than 25  African-American              0   \n",
       "9  1978-08-22   37          25 - 45         Caucasian              0   \n",
       "\n",
       "   decile_score  juv_misd_count  juv_other_count  priors_count  \\\n",
       "0             1               0                0             0   \n",
       "1             3               0                0             0   \n",
       "2             4               0                1             4   \n",
       "3             1               0                0             0   \n",
       "4             6               0                0            14   \n",
       "5             4               0                0             3   \n",
       "6             1               0                0             0   \n",
       "7             4               0                0             0   \n",
       "8             6               0                0             3   \n",
       "9             1               0                0             0   \n",
       "\n",
       "   days_b_screening_arrest            c_jail_in           c_jail_out  \\\n",
       "0                     -1.0  2013-08-13 06:03:42  2013-08-14 05:41:20   \n",
       "1                     -1.0  2013-01-26 03:45:27  2013-02-05 05:36:53   \n",
       "2                     -1.0  2013-04-13 04:58:34  2013-04-14 07:02:04   \n",
       "3                      0.0  2013-11-30 04:50:18  2013-12-01 12:28:56   \n",
       "4                     -1.0  2014-02-18 05:08:24  2014-02-24 12:18:30   \n",
       "5                     -1.0  2013-08-29 08:55:23  2013-08-30 08:42:13   \n",
       "6                     -1.0  2014-03-15 05:35:34  2014-03-18 04:28:46   \n",
       "7                     -1.0  2013-11-25 06:31:06  2013-11-26 08:26:57   \n",
       "8                      0.0  2013-10-03 04:07:35  2013-10-07 08:17:30   \n",
       "9                      0.0  2013-01-01 03:28:03  2013-01-02 01:12:19   \n",
       "\n",
       "   c_case_number c_offense_date c_arrest_date  c_days_from_compas  \\\n",
       "0  13011352CF10A     2013-08-13           NaN                 1.0   \n",
       "1  13001275CF10A     2013-01-26           NaN                 1.0   \n",
       "2  13005330CF10A     2013-04-13           NaN                 1.0   \n",
       "3  13022355MM10A     2013-11-30           NaN                 0.0   \n",
       "4  14002304CF10A     2014-02-18           NaN                 1.0   \n",
       "5  13012216CF10A            NaN    2013-08-29                 1.0   \n",
       "6  14004524MM10A     2014-03-15           NaN                 1.0   \n",
       "7  13016402CF10A     2013-11-25           NaN                 1.0   \n",
       "8  13018837MM10A     2013-10-03           NaN                 0.0   \n",
       "9  13000053MM10A     2013-01-01           NaN                 0.0   \n",
       "\n",
       "  c_charge_degree                   c_charge_desc  is_recid  r_case_number  \\\n",
       "0               F    Aggravated Assault w/Firearm         0            NaN   \n",
       "1               F  Felony Battery w/Prior Convict         1  13009779CF10A   \n",
       "2               F           Possession of Cocaine         1  13011511MM10A   \n",
       "3               M                         Battery         0            NaN   \n",
       "4               F       Possession Burglary Tools         1  14004485CF10A   \n",
       "5               F           arrest case no charge         0            NaN   \n",
       "6               M                         Battery         0            NaN   \n",
       "7               F         Poss 3,4 MDMA (Ecstasy)         0            NaN   \n",
       "8               M                         Battery         1  14010414TC40A   \n",
       "9               M                         Battery         0            NaN   \n",
       "\n",
       "  r_charge_degree  r_days_from_arrest r_offense_date  \\\n",
       "0             NaN                 NaN            NaN   \n",
       "1            (F3)                 NaN     2013-07-05   \n",
       "2            (M1)                 0.0     2013-06-16   \n",
       "3             NaN                 NaN            NaN   \n",
       "4            (F2)                 0.0     2014-03-31   \n",
       "5             NaN                 NaN            NaN   \n",
       "6             NaN                 NaN            NaN   \n",
       "7             NaN                 NaN            NaN   \n",
       "8            (M2)                 NaN     2014-02-08   \n",
       "9             NaN                 NaN            NaN   \n",
       "\n",
       "                    r_charge_desc   r_jail_in  r_jail_out  violent_recid  \\\n",
       "0                             NaN         NaN         NaN            NaN   \n",
       "1     Felony Battery (Dom Strang)         NaN         NaN            NaN   \n",
       "2     Driving Under The Influence  2013-06-16  2013-06-16            NaN   \n",
       "3                             NaN         NaN         NaN            NaN   \n",
       "4  Poss of Firearm by Convic Felo  2014-03-31  2014-04-18            NaN   \n",
       "5                             NaN         NaN         NaN            NaN   \n",
       "6                             NaN         NaN         NaN            NaN   \n",
       "7                             NaN         NaN         NaN            NaN   \n",
       "8       Driving License Suspended         NaN         NaN            NaN   \n",
       "9                             NaN         NaN         NaN            NaN   \n",
       "\n",
       "   is_violent_recid vr_case_number vr_charge_degree vr_offense_date  \\\n",
       "0                 0            NaN              NaN             NaN   \n",
       "1                 1  13009779CF10A             (F3)      2013-07-05   \n",
       "2                 0            NaN              NaN             NaN   \n",
       "3                 0            NaN              NaN             NaN   \n",
       "4                 0            NaN              NaN             NaN   \n",
       "5                 0            NaN              NaN             NaN   \n",
       "6                 0            NaN              NaN             NaN   \n",
       "7                 0            NaN              NaN             NaN   \n",
       "8                 0            NaN              NaN             NaN   \n",
       "9                 0            NaN              NaN             NaN   \n",
       "\n",
       "                vr_charge_desc  type_of_assessment  decile_score.1 score_text  \\\n",
       "0                          NaN  Risk of Recidivism               1        Low   \n",
       "1  Felony Battery (Dom Strang)  Risk of Recidivism               3        Low   \n",
       "2                          NaN  Risk of Recidivism               4        Low   \n",
       "3                          NaN  Risk of Recidivism               1        Low   \n",
       "4                          NaN  Risk of Recidivism               6     Medium   \n",
       "5                          NaN  Risk of Recidivism               4        Low   \n",
       "6                          NaN  Risk of Recidivism               1        Low   \n",
       "7                          NaN  Risk of Recidivism               4        Low   \n",
       "8                          NaN  Risk of Recidivism               6     Medium   \n",
       "9                          NaN  Risk of Recidivism               1        Low   \n",
       "\n",
       "  screening_date v_type_of_assessment  v_decile_score v_score_text  \\\n",
       "0     2013-08-14     Risk of Violence               1          Low   \n",
       "1     2013-01-27     Risk of Violence               1          Low   \n",
       "2     2013-04-14     Risk of Violence               3          Low   \n",
       "3     2013-11-30     Risk of Violence               1          Low   \n",
       "4     2014-02-19     Risk of Violence               2          Low   \n",
       "5     2013-08-30     Risk of Violence               3          Low   \n",
       "6     2014-03-16     Risk of Violence               1          Low   \n",
       "7     2013-11-26     Risk of Violence               4          Low   \n",
       "8     2013-10-03     Risk of Violence               4          Low   \n",
       "9     2013-01-01     Risk of Violence               1          Low   \n",
       "\n",
       "  v_screening_date  in_custody out_custody  priors_count.1  start   end  \\\n",
       "0       2013-08-14  2014-07-07  2014-07-14               0      0   327   \n",
       "1       2013-01-27  2013-01-26  2013-02-05               0      9   159   \n",
       "2       2013-04-14  2013-06-16  2013-06-16               4      0    63   \n",
       "3       2013-11-30  2013-11-30  2013-12-01               0      1   853   \n",
       "4       2014-02-19  2014-03-31  2014-04-18              14      5    40   \n",
       "5       2013-08-30  2014-05-22  2014-06-03               3      0   265   \n",
       "6       2014-03-16  2014-03-15  2014-03-18               0      2   747   \n",
       "7       2013-11-26  2013-11-25  2013-11-26               0      0   857   \n",
       "8       2013-10-03  2013-10-03  2013-10-07               3      4   128   \n",
       "9       2013-01-01  2013-01-01  2013-01-02               0      1  1186   \n",
       "\n",
       "   event  two_year_recid  \n",
       "0      0               0  \n",
       "1      1               1  \n",
       "2      0               1  \n",
       "3      0               0  \n",
       "4      1               1  \n",
       "5      0               0  \n",
       "6      0               0  \n",
       "7      0               0  \n",
       "8      1               1  \n",
       "9      0               0  "
      ]
     },
     "execution_count": 5,
     "metadata": {},
     "output_type": "execute_result"
    }
   ],
   "source": [
    "dataset.head(10)"
   ]
  },
  {
   "cell_type": "code",
   "execution_count": 6,
   "metadata": {},
   "outputs": [
    {
     "name": "stdout",
     "output_type": "stream",
     "text": [
      "id\n",
      "name\n",
      "first\n",
      "last\n",
      "compas_screening_date\n",
      "sex\n",
      "dob\n",
      "age\n",
      "age_cat\n",
      "race\n",
      "juv_fel_count\n",
      "decile_score\n",
      "juv_misd_count\n",
      "juv_other_count\n",
      "priors_count\n",
      "days_b_screening_arrest\n",
      "c_jail_in\n",
      "c_jail_out\n",
      "c_case_number\n",
      "c_offense_date\n",
      "c_arrest_date\n",
      "c_days_from_compas\n",
      "c_charge_degree\n",
      "c_charge_desc\n",
      "is_recid\n",
      "r_case_number\n",
      "r_charge_degree\n",
      "r_days_from_arrest\n",
      "r_offense_date\n",
      "r_charge_desc\n",
      "r_jail_in\n",
      "r_jail_out\n",
      "violent_recid\n",
      "is_violent_recid\n",
      "vr_case_number\n",
      "vr_charge_degree\n",
      "vr_offense_date\n",
      "vr_charge_desc\n",
      "type_of_assessment\n",
      "decile_score.1\n",
      "score_text\n",
      "screening_date\n",
      "v_type_of_assessment\n",
      "v_decile_score\n",
      "v_score_text\n",
      "v_screening_date\n",
      "in_custody\n",
      "out_custody\n",
      "priors_count.1\n",
      "start\n",
      "end\n",
      "event\n",
      "two_year_recid\n"
     ]
    }
   ],
   "source": [
    "for col in dataset.columns:\n",
    "    print(col)"
   ]
  },
  {
   "cell_type": "code",
   "execution_count": null,
   "metadata": {},
   "outputs": [],
   "source": []
  },
  {
   "cell_type": "code",
   "execution_count": null,
   "metadata": {},
   "outputs": [],
   "source": []
  },
  {
   "cell_type": "code",
   "execution_count": null,
   "metadata": {},
   "outputs": [],
   "source": []
  },
  {
   "cell_type": "code",
   "execution_count": 7,
   "metadata": {},
   "outputs": [],
   "source": [
    "# race,  priors_count, is_recid, is_violent_recid, \n",
    "# decile_score, score_text, v_decile_score, v_score_text, \n",
    "\n",
    "#ground truth: two_year_recid\n",
    "#compas algorithm output: decile_score, v_decile_score\n"
   ]
  },
  {
   "cell_type": "markdown",
   "metadata": {},
   "source": [
    "\n",
    "\n",
    "## Basic analysis of demographics\n",
    "\n",
    "- What are the different races present in the dataset? \n",
    "\n",
    "- What is the number of people by age category?\n",
    "\n",
    "- What is the number of people by race?\n",
    "\n",
    "- What is the number of people by COMPAS score (decile_score)?\n",
    "\n",
    "- What is the number of people by COMPAS risk category (score_text)?"
   ]
  },
  {
   "cell_type": "code",
   "execution_count": 8,
   "metadata": {},
   "outputs": [
    {
     "data": {
      "image/png": "[encoded data removed]",
      "text/plain": [
       "<matplotlib.figure.Figure at 0x7fe98aad2f60>"
      ]
     },
     "metadata": {
      "needs_background": "light"
     },
     "output_type": "display_data"
    }
   ],
   "source": [
    "def get_basic_stats(column_name,check_values=None,\n",
    "                    check_NaN=False,group_count=True,plot_hist = False):\n",
    "    '''\n",
    "    basic stats on a given column of the dataset\n",
    "    @param column_name: column name to compute stats on\n",
    "    '''\n",
    "    \n",
    "    result = {}\n",
    "    \n",
    "    if column_name not in dataset.columns:\n",
    "        raise ValueError(\"column_name must be set to a value from the the available values\")\n",
    "        \n",
    "    #values in the column\n",
    "    column_values = np.unique(dataset[column_name].values)\n",
    "    \n",
    "    if check_values:\n",
    "        print('-',column_name,\"in dataset:\")\n",
    "        [print(value) for value in column_values]\n",
    "#         result.append()\n",
    "\n",
    "    if check_NaN:\n",
    "        print(\"-NaN  presenti n the column?\",dataset[column_name].isnull().any())\n",
    "    \n",
    "    if group_count:\n",
    "        #values_count = dataset.groupby(column_name).count()\n",
    "        #values_count.append([{value:(dataset[column_name] == value).sum()} for value in column_values ])\n",
    "        \n",
    "        values_count = dataset[column_name].value_counts()   \n",
    "#         print('-values count:')\n",
    "#         pprint(values_count)\n",
    "        result.update(values_count=values_count)\n",
    "        \n",
    "    #histogram of values\n",
    "    if plot_hist:\n",
    "        ax = dataset[column_name].hist()\n",
    "        ax.set_xlabel(column_name)\n",
    "        ax.set_ylabel('count')\n",
    "    \n",
    "    return result\n",
    "    \n",
    "        \n",
    "result = get_basic_stats(\"sex\",plot_hist=True)\n",
    "# result = get_basic_stats(\"age\")"
   ]
  },
  {
   "cell_type": "code",
   "execution_count": 9,
   "metadata": {},
   "outputs": [
    {
     "name": "stdout",
     "output_type": "stream",
     "text": [
      "African-American    3175\n",
      "Caucasian           2103\n",
      "Hispanic             509\n",
      "Other                343\n",
      "Asian                 31\n",
      "Native American       11\n",
      "Name: race, dtype: int64\n"
     ]
    }
   ],
   "source": [
    "result = get_basic_stats(\"race\")\n",
    "print(result['values_count'])"
   ]
  },
  {
   "cell_type": "code",
   "execution_count": 10,
   "metadata": {},
   "outputs": [
    {
     "data": {
      "text/plain": [
       "{'values_count': 1     1286\n",
       " 2      822\n",
       " 4      666\n",
       " 3      647\n",
       " 5      582\n",
       " 6      529\n",
       " 7      496\n",
       " 9      420\n",
       " 8      420\n",
       " 10     304\n",
       " Name: decile_score, dtype: int64}"
      ]
     },
     "execution_count": 10,
     "metadata": {},
     "output_type": "execute_result"
    }
   ],
   "source": [
    "get_basic_stats('decile_score')"
   ]
  },
  {
   "cell_type": "code",
   "execution_count": 11,
   "metadata": {},
   "outputs": [
    {
     "data": {
      "text/plain": [
       "{'values_count': Low       3421\n",
       " Medium    1607\n",
       " High      1144\n",
       " Name: score_text, dtype: int64}"
      ]
     },
     "execution_count": 11,
     "metadata": {},
     "output_type": "execute_result"
    }
   ],
   "source": [
    "get_basic_stats('score_text')"
   ]
  },
  {
   "cell_type": "code",
   "execution_count": 12,
   "metadata": {},
   "outputs": [
    {
     "name": "stdout",
     "output_type": "stream",
     "text": [
      "african america with compass score high:  845\n",
      "percentage of african americans with high score 73.86%\n",
      "\n",
      "\n",
      "african america with compass score medium:  984\n",
      "percentage of african americans with medium score 61.23%\n",
      "\n",
      "\n",
      "african america with compass score low:  984\n",
      "percentage of african americans with low score 39.35%\n",
      "\n",
      "\n"
     ]
    }
   ],
   "source": [
    "# number of african-american with score_text : high\n",
    "result = get_basic_stats('score_text')\n",
    "african_american_count_high = dataset[(dataset['race'] == 'African-American') & (dataset['score_text'] == 'High')].count()['id']\n",
    "print(\"african america with compass score high: \",african_american_count_high)\n",
    "print('percentage of african americans with high score {:.2f}%'.format(african_american_count_high /result['values_count']['High']*100))\n",
    "print('\\n')\n",
    "# number of african-american with score_text : medium\n",
    "african_american_count_medium = dataset[(dataset['race'] == 'African-American') & (dataset['score_text'] == 'Medium')].count()['id']\n",
    "print(\"african america with compass score medium: \",african_american_count_medium)\n",
    "print('percentage of african americans with medium score {:.2f}%'.format(african_american_count_medium /result['values_count']['Medium']*100))\n",
    "print('\\n')\n",
    "\n",
    "# number of african-american with score_text : low\n",
    "african_american_count_low = dataset[(dataset['race'] == 'African-American') & (dataset['score_text'] == 'Low')].count()['id']\n",
    "print(\"african america with compass score low: \",african_american_count_medium)\n",
    "print('percentage of african americans with low score {:.2f}%'.format(african_american_count_low /result['values_count']['Low']*100))\n",
    "print('\\n')\n"
   ]
  },
  {
   "cell_type": "markdown",
   "metadata": {},
   "source": [
    "### decile score vs race\n"
   ]
  },
  {
   "cell_type": "code",
   "execution_count": 13,
   "metadata": {},
   "outputs": [],
   "source": [
    "def scores_stats(category, value):\n",
    "    '''\n",
    "    @param category: vategory to perform stats on\n",
    "    @param value: entry in the specefied category\n",
    "    '''\n",
    "    scores = dataset[dataset[category] == value]\n",
    "    scores = scores[['decile_score','score_text']]\n",
    "    scores['decile_score'].hist()\n",
    "    print('mean decile score: %.2f'%scores['decile_score'].mean())\n"
   ]
  },
  {
   "cell_type": "code",
   "execution_count": 14,
   "metadata": {},
   "outputs": [
    {
     "name": "stdout",
     "output_type": "stream",
     "text": [
      "mean decile score: 5.28\n"
     ]
    },
    {
     "data": {
      "image/png": "[encoded data removed]",
      "text/plain": [
       "<matplotlib.figure.Figure at 0x7fe987bf3588>"
      ]
     },
     "metadata": {
      "needs_background": "light"
     },
     "output_type": "display_data"
    }
   ],
   "source": [
    "#distribution and mean of decile score for african americans\n",
    "\n",
    "scores_stats('race','African-American')"
   ]
  },
  {
   "cell_type": "code",
   "execution_count": 15,
   "metadata": {},
   "outputs": [
    {
     "name": "stdout",
     "output_type": "stream",
     "text": [
      "mean decile score: 3.64\n"
     ]
    },
    {
     "data": {
      "image/png": "[encoded data removed]",
      "text/plain": [
       "<matplotlib.figure.Figure at 0x7fe987a3ed30>"
      ]
     },
     "metadata": {
      "needs_background": "light"
     },
     "output_type": "display_data"
    }
   ],
   "source": [
    "#decile score vs race\n",
    "# distribution of decile score for Caucasian\n",
    "\n",
    "scores_stats('race','Caucasian')"
   ]
  },
  {
   "cell_type": "markdown",
   "metadata": {},
   "source": [
    "### decile score vs gender\n",
    "#### TODO: add number of males and femals "
   ]
  },
  {
   "cell_type": "code",
   "execution_count": 16,
   "metadata": {},
   "outputs": [
    {
     "name": "stdout",
     "output_type": "stream",
     "text": [
      "mean decile score: 4.50\n"
     ]
    },
    {
     "data": {
      "image/png": "[encoded data removed]",
      "text/plain": [
       "<matplotlib.figure.Figure at 0x7fe9879979b0>"
      ]
     },
     "metadata": {
      "needs_background": "light"
     },
     "output_type": "display_data"
    }
   ],
   "source": [
    "# distribution of decile score for males\n",
    "\n",
    "scores_stats('sex','Male')"
   ]
  },
  {
   "cell_type": "code",
   "execution_count": 17,
   "metadata": {},
   "outputs": [
    {
     "name": "stdout",
     "output_type": "stream",
     "text": [
      "mean decile score: 4.06\n"
     ]
    },
    {
     "data": {
      "image/png": "[encoded data removed]",
      "text/plain": [
       "<matplotlib.figure.Figure at 0x7fe9879a12b0>"
      ]
     },
     "metadata": {
      "needs_background": "light"
     },
     "output_type": "display_data"
    }
   ],
   "source": [
    "# distribution of decile score for Females \n",
    "\n",
    "scores_stats('sex','Female')"
   ]
  },
  {
   "cell_type": "markdown",
   "metadata": {},
   "source": [
    "1. Compute basic performance metrics of the COMPAS classifier for different races/genders.\n",
    "\n",
    "2. Do you see a difference? Are there other analyses that you could do to investigate how different races/genders are treated by the COMPAS classifier?"
   ]
  },
  {
   "cell_type": "code",
   "execution_count": null,
   "metadata": {},
   "outputs": [],
   "source": []
  },
  {
   "cell_type": "code",
   "execution_count": null,
   "metadata": {},
   "outputs": [],
   "source": []
  },
  {
   "cell_type": "markdown",
   "metadata": {},
   "source": [
    "The two_year_recid field records whether or not each person was re-arrested for a violent offense within two years, which is what COMPAS is trying to predict.\n"
   ]
  },
  {
   "cell_type": "markdown",
   "metadata": {},
   "source": [
    "1. How many people were re-arrested?\n"
   ]
  },
  {
   "cell_type": "code",
   "execution_count": 18,
   "metadata": {},
   "outputs": [
    {
     "data": {
      "text/plain": [
       "2809"
      ]
     },
     "execution_count": 18,
     "metadata": {},
     "output_type": "execute_result"
    }
   ],
   "source": [
    "#people whom got re-arrested in two years span\n",
    "dataset['two_year_recid'].sum()"
   ]
  },
  {
   "cell_type": "markdown",
   "metadata": {},
   "source": [
    "2. Compute the recidivism (i.e., people that got re-arrested) rates by race and gender\n"
   ]
  },
  {
   "cell_type": "code",
   "execution_count": 19,
   "metadata": {},
   "outputs": [
    {
     "data": {
      "text/plain": [
       "822"
      ]
     },
     "execution_count": 19,
     "metadata": {},
     "output_type": "execute_result"
    }
   ],
   "source": [
    "# recedivism bs race\n",
    "\n",
    "dataset[(dataset['race'] == 'Caucasian') & (dataset['two_year_recid']==1)]['two_year_recid'].sum()"
   ]
  },
  {
   "cell_type": "code",
   "execution_count": 20,
   "metadata": {},
   "outputs": [
    {
     "data": {
      "text/plain": [
       "1661"
      ]
     },
     "execution_count": 20,
     "metadata": {},
     "output_type": "execute_result"
    }
   ],
   "source": [
    "dataset[(dataset['race'] == 'African-American') & (dataset['two_year_recid']==1)]['two_year_recid'].sum()"
   ]
  },
  {
   "cell_type": "code",
   "execution_count": 21,
   "metadata": {},
   "outputs": [
    {
     "data": {
      "text/plain": [
       "2396"
      ]
     },
     "execution_count": 21,
     "metadata": {},
     "output_type": "execute_result"
    }
   ],
   "source": [
    "#recedivism by gender\n",
    "dataset[(dataset['sex'] == 'Male') & (dataset['two_year_recid']==1)]['two_year_recid'].sum()"
   ]
  },
  {
   "cell_type": "code",
   "execution_count": 22,
   "metadata": {},
   "outputs": [
    {
     "data": {
      "text/plain": [
       "413"
      ]
     },
     "execution_count": 22,
     "metadata": {},
     "output_type": "execute_result"
    }
   ],
   "source": [
    "dataset[(dataset['sex'] == 'Female') & (dataset['two_year_recid']==1)]['two_year_recid'].sum()"
   ]
  },
  {
   "cell_type": "code",
   "execution_count": 23,
   "metadata": {},
   "outputs": [
    {
     "name": "stdout",
     "output_type": "stream",
     "text": [
      "1 4\n",
      "5 7\n",
      "8 10\n"
     ]
    }
   ],
   "source": [
    "#mapping of low medium high to decile score\n",
    "scores = dataset[['decile_score','score_text']]\n",
    "low_range = scores[scores['score_text'] == 'Low']['decile_score']\n",
    "print(low_range.min(),low_range.max())\n",
    "medium_range = scores[scores['score_text'] == 'Medium']['decile_score']\n",
    "print(medium_range.min(),medium_range.max())\n",
    "High_range = scores[scores['score_text'] == 'High']['decile_score']\n",
    "print(High_range.min(),High_range.max())"
   ]
  },
  {
   "cell_type": "code",
   "execution_count": 24,
   "metadata": {},
   "outputs": [],
   "source": [
    "# we split scores to new classes, high to 1 and medium/ low to zero\n",
    "new_scores = dataset.copy()\n",
    "new_scores['decile_score'].replace(to_replace=range(1,8),value=0,inplace=True)\n",
    "# new_scores['decile_score'].replace(to_replace=[5,6,7],value=1,inplace=True)\n",
    "new_scores['decile_score'].replace(to_replace=range(8,11),value=1,inplace=True)\n"
   ]
  },
  {
   "cell_type": "markdown",
   "metadata": {},
   "source": [
    "3. What is the accuracy of the COMPAS scores to predict recidivism\n"
   ]
  },
  {
   "cell_type": "code",
   "execution_count": 30,
   "metadata": {},
   "outputs": [
    {
     "data": {
      "text/plain": [
       "0.6339922229423202"
      ]
     },
     "execution_count": 30,
     "metadata": {},
     "output_type": "execute_result"
    }
   ],
   "source": [
    "performance.accuracy_score(new_scores['two_year_recid'],new_scores['decile_score'],normalize=True)"
   ]
  },
  {
   "cell_type": "markdown",
   "metadata": {},
   "source": [
    "4. Is the accuracy higher/lower if we look at particular races/genders?\n"
   ]
  },
  {
   "cell_type": "markdown",
   "metadata": {},
   "source": [
    "### accuracy for african american"
   ]
  },
  {
   "cell_type": "code",
   "execution_count": 42,
   "metadata": {},
   "outputs": [
    {
     "data": {
      "text/plain": [
       "array([[1303,  211],\n",
       "       [1027,  634]])"
      ]
     },
     "execution_count": 42,
     "metadata": {},
     "output_type": "execute_result"
    }
   ],
   "source": [
    "new_scores_african_american = new_scores[new_scores['race'] == 'African-American']\n",
    "performance.accuracy_score(new_scores_african_american['two_year_recid'],new_scores_african_american['decile_score'],normalize=True)\n",
    "\n",
    "performance.confusion_matrix(new_scores_african_american['two_year_recid'],new_scores_african_american['decile_score'])\n"
   ]
  },
  {
   "cell_type": "markdown",
   "metadata": {},
   "source": [
    "### accuracy for Caucasians"
   ]
  },
  {
   "cell_type": "code",
   "execution_count": 36,
   "metadata": {},
   "outputs": [
    {
     "data": {
      "text/plain": [
       "0.6571564431764146"
      ]
     },
     "execution_count": 36,
     "metadata": {},
     "output_type": "execute_result"
    }
   ],
   "source": [
    "new_scores_Caucasian = new_scores[new_scores['race'] == 'Caucasian']\n",
    "performance.accuracy_score(new_scores_Caucasian['two_year_recid'],new_scores_Caucasian['decile_score'],normalize=True)"
   ]
  },
  {
   "cell_type": "markdown",
   "metadata": {},
   "source": [
    "### Accuracy for females"
   ]
  },
  {
   "cell_type": "code",
   "execution_count": 37,
   "metadata": {},
   "outputs": [
    {
     "data": {
      "text/plain": [
       "0.6868085106382978"
      ]
     },
     "execution_count": 37,
     "metadata": {},
     "output_type": "execute_result"
    }
   ],
   "source": [
    "new_scores_female = new_scores[new_scores['sex'] == 'Female']\n",
    "performance.accuracy_score(new_scores_female['two_year_recid'],new_scores_female['decile_score'],normalize=True)"
   ]
  },
  {
   "cell_type": "markdown",
   "metadata": {},
   "source": [
    "### accuracy for males\n"
   ]
  },
  {
   "cell_type": "code",
   "execution_count": 38,
   "metadata": {},
   "outputs": [
    {
     "data": {
      "text/plain": [
       "0.6215729437662597"
      ]
     },
     "execution_count": 38,
     "metadata": {},
     "output_type": "execute_result"
    }
   ],
   "source": [
    "new_scores_male = new_scores[new_scores['sex'] == 'Male']\n",
    "performance.accuracy_score(new_scores_male['two_year_recid'],new_scores_male['decile_score'],normalize=True)"
   ]
  },
  {
   "cell_type": "markdown",
   "metadata": {},
   "source": [
    "5. What about false positives and false negatives?\n"
   ]
  },
  {
   "cell_type": "code",
   "execution_count": null,
   "metadata": {},
   "outputs": [],
   "source": []
  },
  {
   "cell_type": "code",
   "execution_count": null,
   "metadata": {},
   "outputs": [],
   "source": []
  },
  {
   "cell_type": "code",
   "execution_count": null,
   "metadata": {},
   "outputs": [],
   "source": []
  },
  {
   "cell_type": "code",
   "execution_count": null,
   "metadata": {},
   "outputs": [],
   "source": []
  },
  {
   "cell_type": "code",
   "execution_count": null,
   "metadata": {},
   "outputs": [],
   "source": []
  }
 ],
 "metadata": {
  "kernelspec": {
   "display_name": "Python 3",
   "language": "python",
   "name": "python3"
  },
  "language_info": {
   "codemirror_mode": {
    "name": "ipython",
    "version": 3
   },
   "file_extension": ".py",
   "mimetype": "text/x-python",
   "name": "python",
   "nbconvert_exporter": "python",
   "pygments_lexer": "ipython3",
   "version": "3.6.9"
  }
 },
 "nbformat": 4,
 "nbformat_minor": 2
}
